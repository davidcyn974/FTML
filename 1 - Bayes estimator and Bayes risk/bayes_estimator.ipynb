{
 "cells": [
  {
   "cell_type": "markdown",
   "metadata": {},
   "source": [
    "### Question 1 (M) : Propose a supervised learning setting :\n",
    "- input space $X$\n",
    "- output space $Y$\n",
    "- a random variable $(X, Y)$ with a joint distribution.\n",
    "- a loss function $l(x, y)$\n",
    "\n",
    "\n",
    "\n",
    "$l = \\begin{cases} \n",
    "X × Y → \\mathbb{R_{+}} \\\\\n",
    "(x, y) → l(x, y)\n",
    "\\end{cases}$\n",
    "\n",
    "Compute the Bayes predictor $f^* : X → Y$ and the Bayes risk associated with this\n",
    "setting. Remark : you have to use a setting different than the settings seen during\n",
    "the course, in terms of input space $X$ and output space $Y$. However, you can use any\n",
    "classical loss function $l$ (square loss, \"0-1\" loss, etc)."
   ]
  },
  {
   "cell_type": "markdown",
   "metadata": {},
   "source": [
    "#### Nous allons étudier le risque de panne d'un serveur en fonction de la journée, nous supposons que ce dernier à plus de chance d'être défaillant aux heures de pointes donc entre 10h et 18h.\n",
    "\n",
    "\n",
    "### Espaces des entrées et sorties\n",
    "- **Espace des entrées $X$** : le temps en heures, une variable continue $X \\in [0, 24[$.\n",
    "- **Espace des sorties $Y$** : état du système, où $Y$ peut prendre deux valeurs: 0 (fonctionnel) ou 1 (non-fonctionnel).\n",
    "### Distribution conditionnelle de $Y$ donné $X$\n",
    "- $p(Y = 1 \\mid X = x) = 0.8$ pour $10 \\leq x < 18$ (heures de pointe, haute probabilité de défaillance).\n",
    "- $p(Y = 1 \\mid X = x) = 0.2$ pour toutes les autres heures (faible probabilité de défaillance).\n",
    "\n",
    "Le prédicteur de Bayes, $f^*(X)$, est défini par la règle de décision qui prédit la classe ayant la probabilité conditionnelle la plus élevée étant donné $X$ :\n",
    "\n",
    "$$f^*(x) = \\begin{cases} \n",
    "1 & \\text{si } p(Y = 1 \\mid X = x) > 0.5 \\\\\n",
    "0 & \\text{sinon}\n",
    "\\end{cases}$$\n",
    "\n",
    "Ce qui implique :\n",
    "\n",
    "$$f^*(x) = \\begin{cases} \n",
    "1 & \\text{si } 10 \\leq x < 18 \\\\\n",
    "0 & \\text{sinon}\n",
    "\\end{cases}$$\n",
    "\n",
    "### Fonction de perte \"0-1\"\n",
    "$$\n",
    "l(y, \\hat{y}) = \\begin{cases} \n",
    "0 & \\text{si } y = \\hat{y} \\\\\n",
    "1 & \\text{si } y \\neq \\hat{y}\n",
    "\\end{cases}\n",
    "$$\n",
    "\n",
    "### Risque de Bayes\n",
    "Le risque de Bayes, $R(f^*)$, est calculé comme l'espérance de la fonction de perte sous le prédicteur de Bayes :\n",
    "$$\n",
    "R(f^*) = E[l(Y, f^*(X))] = \\sum_{x \\in [0, 24[} p(X = x) \\left[ p(Y = 1 \\mid X = x) \\cdot l(1, f^*(x)) + p(Y = 0 \\mid X = x) \\cdot l(0, f^*(x)) \\right]\n",
    "$$\n",
    "Ce calcul nécessite de décomposer les heures du jour pour prendre en compte les différentes probabilités conditionnelles de défaillance."
   ]
  },
  {
   "cell_type": "code",
   "execution_count": 2,
   "metadata": {},
   "outputs": [],
   "source": [
    "import numpy as np\n",
    "import matplotlib.pyplot as plt"
   ]
  },
  {
   "cell_type": "code",
   "execution_count": 5,
   "metadata": {},
   "outputs": [
    {
     "data": {
      "image/png": "[encoded data removed]",
      "text/plain": [
       "<Figure size 640x480 with 1 Axes>"
      ]
     },
     "metadata": {},
     "output_type": "display_data"
    }
   ],
   "source": [
    "# 1. Configuration de l'environnement d'apprentissage supervisé\n",
    "# Espace des entrées X : Temps en heures (une valeur réelle entre 0 et 24)\n",
    "# Espace des sorties Y : Statut d'un système (0 pour fonctionnel, 1 pour non-fonctionnel)\n",
    "\n",
    "n_samples = 100000\n",
    "\n",
    "# Fonction pour générer des données\n",
    "def generate_data(n_samples):\n",
    "    X = np.random.uniform(0, 24, n_samples)  # heures de la journée\n",
    "    p_failure = np.where((10 <= X) & (X < 18), 0.8, 0.2)  # probabilité de défaillance\n",
    "    Y = np.random.binomial(1, p_failure)  # état du système en fonction de l'heure\n",
    "    return X, Y\n",
    "\n",
    "# Générer les données\n",
    "X, Y = generate_data(n_samples)\n",
    "\n",
    "# Afficher un échantillon des données\n",
    "plt.scatter(X[:50], Y[:50], alpha=0.7)\n",
    "plt.xlabel('Heure du jour')\n",
    "plt.ylabel('État du système (0=OK, 1=Failure)')\n",
    "plt.title('Échantillon des données générées')\n",
    "plt.show()"
   ]
  },
  {
   "cell_type": "markdown",
   "metadata": {},
   "source": [
    "### Question 2 (C) : \n",
    "Propose an estimator $\\widetilde{f} : X → Y$ different than the Bayes estimator and run a simulation that gives a statistical approximation of its generalization error (risque réel) by computing its empirical risk on a test set. Perform the same simulation also for $f^*$, and verify that the generalization error is smaller for $f^∗$ than for $\\widetilde{f}$, and that your computation in question 1 was correct (the test error for $f^∗$ should be close to the Bayes risk if there is a sufficiently large number of samples)."
   ]
  },
  {
   "cell_type": "code",
   "execution_count": 8,
   "metadata": {},
   "outputs": [
    {
     "name": "stdout",
     "output_type": "stream",
     "text": [
      "Risque empirique pour le prédicteur de Bayes: 0.20019\n",
      "Risque empirique pour le prédicteur naïf: 0.39997\n",
      "Différence de risque entre le prédicteur naïf et le prédicteur de Bayes: 0.19977999999999999\n",
      "Le prédicteur de Bayes est meilleur en termes d'erreur de généralisation par rapport au prédicteur naïf.\n"
     ]
    }
   ],
   "source": [
    "# 2. Définition et évaluation du prédicteur de Bayes\n",
    "# Prédicteur de Bayes f*\n",
    "def bayes_predictor(X):\n",
    "    return np.where((10 <= X) & (X < 18), 1, 0)\n",
    "\n",
    "# Prédicteur alternatif pour comparaison\n",
    "def naive_predictor(X):\n",
    "    return np.zeros_like(X)  # prédit toujours que le système est fonctionnel\n",
    "\n",
    "# Prédiction sur les données\n",
    "Y_pred_bayes = bayes_predictor(X)\n",
    "Y_pred_naive = naive_predictor(X)\n",
    "\n",
    "# Fonction de perte \"0-1\"\n",
    "def zero_one_loss(Y, Y_pred):\n",
    "    return np.mean(Y != Y_pred)\n",
    "\n",
    "# Calculer le risque empirique pour chaque prédicteur\n",
    "risk_bayes = zero_one_loss(Y, Y_pred_bayes)\n",
    "risk_naive = zero_one_loss(Y, Y_pred_naive)\n",
    "\n",
    "print(f\"Risque empirique pour le prédicteur de Bayes: {risk_bayes}\")\n",
    "print(f\"Risque empirique pour le prédicteur naïf: {risk_naive}\")\n",
    "\n",
    "# Comparaison de l'erreur de généralisation\n",
    "print(f\"Différence de risque entre le prédicteur naïf et le prédicteur de Bayes: {risk_naive - risk_bayes}\")\n",
    "\n",
    "# Conclusion\n",
    "print(\"Le prédicteur de Bayes est meilleur en termes d'erreur de généralisation par rapport au prédicteur naïf.\")"
   ]
  }
 ],
 "metadata": {
  "kernelspec": {
   "display_name": "Python 3",
   "language": "python",
   "name": "python3"
  },
  "language_info": {
   "codemirror_mode": {
    "name": "ipython",
    "version": 3
   },
   "file_extension": ".py",
   "mimetype": "text/x-python",
   "name": "python",
   "nbconvert_exporter": "python",
   "pygments_lexer": "ipython3",
   "version": "3.11.4"
  }
 },
 "nbformat": 4,
 "nbformat_minor": 2
}
