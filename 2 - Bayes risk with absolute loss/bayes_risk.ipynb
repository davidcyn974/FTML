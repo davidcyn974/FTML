{
 "cells": [
  {
   "cell_type": "markdown",
   "metadata": {},
   "source": [
    "### Question 0 (M, to avoid making a mistake later) : \n",
    "Propose a function from $\\mathbb{R}$ to $\\mathbb{R}$ that has a zero derivative a some real value $x_0$, but $f(x_0)$ is not a local extremum\n",
    "of the function."
   ]
  },
  {
   "cell_type": "markdown",
   "metadata": {},
   "source": [
    "![alt text](images.png)\n",
    "$\\newline$\n",
    "Comme il est possible de le voir sur cette image, la dérivée en $x_0 = 0$ est bien un extremum global qui vaut $f(x_0) = 1$. Donc une dérivée qui vaut $0$ implique nécessairement un maximum global."
   ]
  },
  {
   "cell_type": "markdown",
   "metadata": {},
   "source": [
    "### Vrai réponse\n",
    "\n",
    "On peut prendre le contre exemple:\n",
    "$f: x \\rightarrow x^3$ qui nous donne un point d'inflexion en $0$, qui n'est donc pas un extremum local."
   ]
  },
  {
   "cell_type": "markdown",
   "metadata": {},
   "source": [
    "### Question 1 (M + C) : \n",
    "Propose a setting where $f^*_{l_{absolute}} \\neq f^∗_{l_{squared}}$.\n",
    "$\\newline$\n",
    "To show this, several options are possible.\n",
    "$\\newline$\n",
    "For instance, you might find an estimator $h$ such that\n",
    "$R_{l_{absolute}}(h) < R_{l_{absolute}} (f^∗_{l_{squared}})$, or the opposite.\n",
    "$\\newline$\n",
    "Run simulations that verify your result by computing empirical test errors, as in\n",
    "exercice 1."
   ]
  },
  {
   "cell_type": "markdown",
   "metadata": {},
   "source": [
    "### Question 2 (M) : \n",
    "General case : we consider a setting where for each value $x \\in X$,\n",
    "$\\newline$\n",
    "the conditional probability $P(Y|X = x)$ has a continuous density, noted $p_{Y|X=x}$,\n",
    "$\\newline$\n",
    "and that the conditional variable $Y|X = x$ has a moment of order $1$.\n",
    "$\\newline$\n",
    "We note that for all $z \\in \\mathbb{R}$, this implies that $Y − z|X = x$ also has a moment of order $1$.\n",
    "$\\newline$\n",
    "Determine the Bayes predictor for the absolute loss, which means for a fixed $x$,\n",
    "determine\n",
    "$\\newline$\n",
    "$$f^*_{l_{absolute}} (x) = \\underset{z \\in \\mathbb{R}}{\\operatorname{arg\\space min}} \\space E[|y − z||X = x]\n",
    "\\newline = \\underset{z \\in \\mathbb{R}}{\\operatorname{arg\\space min}} (g(z))$$\n",
    "$\\newline$\n",
    "with\n",
    "$$\\displaystyle \\int_{y \\in \\mathbb{R}}^{} |y − z| p_{Y|X=x}(y) \\, \\mathrm{d}y$$\n",
    "where $g(z)$ is correctly defined, according to the previous assumptions."
   ]
  },
  {
   "cell_type": "markdown",
   "metadata": {},
   "source": [
    "Soit $z \\in \\mathbb{R}$,\n",
    "$\\newline$\n",
    "On sait que, $Y − z|X = x$ admet un moment d'ordre $1$\n",
    "$\\newline$\n",
    "On en déduit donc que $g(z)$ est fini, de plus la fonction sous l'intégrale est toujours positive donc:\n",
    "$\\newline$\n",
    "$\\forall z \\in \\mathbb{R},  \\displaystyle \\int_{-\\infty}^{z} - (y − z) p_{Y|X=x}(y) \\, \\mathrm{d}y \\leq g(z) < \\infty$\n",
    "$\\newline$\n",
    "Le même raisonnement est applicable sur l'intervalle $[z, +\\infty]$,\n",
    "$\\newline$\n",
    "On a,\n",
    "$\\newline$\n",
    "$g(z) = \\displaystyle \\int_{-\\infty}^{z} - (y − z) p_{Y|X=x}(y) \\, \\mathrm{d}y + \\displaystyle \\int_{z}^{-\\infty} (y − z) p_{Y|X=x}(y) \\, \\mathrm{d}y$\n",
    "$\\newline$\n",
    "Nous allons dériver $g$ en fonction de $z$ et pour ça nous allons utiliser la règle de Leibniz de différenciation sous l'intégrale.\n",
    "$\\newline$\n",
    "On pose $h: (y, z) \\rightarrow -(y - z)p_{Y|X=x}(y)$\n",
    "$\\newline$\n",
    "Nous savons que la densité est continue de même pour $y - z$, \n",
    "$\\newline$\n",
    "$(i)$ $h$ est continue selon $y$ et $z$.\n",
    "$\\newline$\n",
    "On a, $\\frac{\\partial h}{\\partial z} = p_{Y|X=x}(y)$\n",
    "$\\newline$\n",
    "$(ii)$ $\\frac{\\partial h}{\\partial z}$ est continue selon $y$ et $z$\n",
    "$\\newline$\n",
    "$(iii)$ De plus la fonction identité est évidemment continue et dérivable, de dérivée continue (borne supérieure),\n",
    "$\\newline$\n",
    "Donc selon le théorème nous avons (en faisant le même raisonnement avec l'intégrale de droite avec $-h$):\n",
    "$\\newline$\n",
    "$\\frac{dg}{dz}(z) = h(z, z) * 1 + \\displaystyle \\int_{-\\infty}^{z} \\frac{\\partial h}{\\partial z} (z, y)\\, \\mathrm{d}y - h(z, z) * 1 - \\displaystyle \\int_{z}^{+\\infty} \\frac{\\partial h}{\\partial z} (z, y)\\, \\mathrm{d}y$\n",
    "$\\newline$\n",
    "donc, $\\frac{dg}{dz}(z) = \\displaystyle \\int_{-\\infty}^{z} p_{Y|X=x}(y)\\, \\mathrm{d}y - \\displaystyle \\int_{z}^{+\\infty} p_{Y|X=x}(y)\\, \\mathrm{d}y$\n",
    "$\\newline$\n",
    "Nous savons qu'une probabilité conditionnelle est une probabilité ainsi nous avons:\n",
    "$\\newline$\n",
    "$\\displaystyle \\int_{y \\in \\mathbb{R}}^{} p_{Y|X=x}(y)\\, \\mathrm{d}y = 1$\n",
    "$\\newline$\n",
    "On en déduit alors que:\n",
    "$\\newline$\n",
    "$\\frac{dg}{dz}(z) = 2 * \\displaystyle \\int_{-\\infty}^{z} p_{Y|X=x}(y)\\, \\mathrm{d}y - 1$\n",
    "$\\newline$\n",
    "Trouvons le point d'annulation de la fonction, $\\frac{dg}{dz}(z_0) = 0$\n",
    "$\\newline$\n",
    "$\\displaystyle \\int_{-\\infty}^{z_0} p_{Y|X=x}(y)\\, \\mathrm{d}y = \\frac{1}{2}$\n",
    "$\\newline$\n",
    "Donc $z_0$ correspond au point médian de la loi conditionnelle $Y|X = x$ que nous appelerons $m$.\n",
    "$\\newline$\n",
    "La dérivée est nécessairement croissante parce qu'une probabilité est positive donc (croissance de l'intégrale) nous avons donc le tableau de variation suivant:\n",
    "$\\newline$\n",
    "$\n",
    "\\begin{array}{c|ccccc}\n",
    "z & -\\infty & & m & & +\\infty \\\\\n",
    "\\hline\n",
    "g'(z) & & - & 0 & + & \\\\\n",
    "\\hline\n",
    "g(z) & & \\searrow & min & \\nearrow & \\\\\n",
    "\\end{array}\n",
    "$\n",
    "\n"
   ]
  },
  {
   "cell_type": "markdown",
   "metadata": {},
   "source": [
    "Donc le prédicteur de Bayes, $f^{*}_{l_{absolute}}(x)$ pour un $x$ fixé correspond à la fonction $g$ évalué au point médian $m$ de la loi conditionnelle $Y|X = x$:\n",
    "\n",
    "$f^{*}_{l_{absolute}}(x) = g(m)$"
   ]
  },
  {
   "cell_type": "markdown",
   "metadata": {},
   "source": []
  }
 ],
 "metadata": {
  "kernelspec": {
   "display_name": "Python 3",
   "language": "python",
   "name": "python3"
  },
  "language_info": {
   "codemirror_mode": {
    "name": "ipython",
    "version": 3
   },
   "file_extension": ".py",
   "mimetype": "text/x-python",
   "name": "python",
   "nbconvert_exporter": "python",
   "pygments_lexer": "ipython3",
   "version": "3.11.4"
  }
 },
 "nbformat": 4,
 "nbformat_minor": 2
}
