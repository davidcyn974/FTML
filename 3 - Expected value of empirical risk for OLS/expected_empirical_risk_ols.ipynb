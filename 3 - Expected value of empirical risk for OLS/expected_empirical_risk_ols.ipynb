{
 "cells": [
  {
   "cell_type": "markdown",
   "metadata": {},
   "source": [
    "# Exercise 3: Expected value of Empirical Risk for OLS"
   ]
  },
  {
   "cell_type": "markdown",
   "metadata": {},
   "source": [
    "#### Question 1 (M): \n",
    "Montrons que:\n",
    "$E[R_n(\\hat\\theta)] = E_\\epsilon[\\frac{1}{n}||(I_n - X(X^TX)^{-1}X^T)\\epsilon||^{2}]$\n",
    "\n",
    "Nous avons: $$\\hat\\theta = (X^TX)^{-1}X^Ty$$ et $$y = X\\theta^* + \\epsilon$$\n",
    "\n",
    "Alors:\n",
    "\n",
    "$$\\begin{align}\n",
    "R_n(\\hat\\theta) &= \\frac{1}{n} || y - X \\hat\\theta ||_{2}^{2} \\\\\n",
    "                &= \\frac{1}{n} || X\\theta^* + \\epsilon - X (X^T X)^{-1} X^T (X\\theta^* + \\epsilon)||_{2}^{2} \\\\\n",
    "                &= \\frac{1}{n} || X\\theta^* + \\epsilon - X (X^T X)^{-1} X^T X \\theta^* - X (X^T X)^{-1} X^T \\epsilon)||_{2}^{2} \\\\\n",
    "                &= \\frac{1}{n} || X\\theta^* + \\epsilon - X \\theta^* - X (X^T X)^{-1} X^T \\epsilon)||_{2}^{2} \\\\\n",
    "                &= \\frac{1}{n} || (I_n - X (X^T X)^{-1} X^T) \\epsilon||_{2}^{2} \\\\\n",
    "\\end{align}$$\n",
    "\n",
    "D'où:\n",
    "$$ E(R_n(\\hat\\theta)) = E_\\epsilon(\\frac{1}{n} || (I_n - X (X^T X)^{-1} X^T) \\epsilon||_{2}^{2})$$\n"
   ]
  },
  {
   "cell_type": "markdown",
   "metadata": {},
   "source": []
  },
  {
   "cell_type": "markdown",
   "metadata": {},
   "source": [
    "#### Question 2 (M): \n",
    "Soit $A \\in \\mathbb{R}^{n,n}$. Montrons que $\\sum_{(i,j)\\in[1,n]^2} A_{ij}^2 = tr(A^TA)$\n",
    "\n",
    "$$\\begin{align}\n",
    "tr(A^TA) &= \\sum_{i=1}^{n} (A^TA)_{ii} \\\\\n",
    "         &= \\sum_{i=1}^{n} \\sum_{j=1}^n A^T_{ik} A_{ki} \\\\\n",
    "         &= \\sum_{i=1}^{n} \\sum_{j=1}^n A_{ki} A_{ki} \\\\\n",
    "         &= \\sum_{(i,j) \\in [1,n]^2} A_{ij}^2\n",
    "\\end{align}$$\n",
    "\n",
    "Ainsi on a bien $tr(A^TA) = \\sum_{(i,j)\\in[1,n]^2} A_{ij}^2$"
   ]
  },
  {
   "cell_type": "markdown",
   "metadata": {},
   "source": [
    "#### Question 3 (M):\n",
    "\n",
    "Montrons que $E_\\epsilon[\\frac{1}{n} ||A \\epsilon||^2] = \\frac{\\sigma^2}{n} tr(A^TA)$\n",
    "\n",
    "$$\\begin{align}\n",
    "||A\\epsilon||^2 &= \\sum_{i=1}^n (A_i \\epsilon)^2 \\\\\n",
    "                &= \\sum_{i=1}^n (\\sum_{j=1}^n A_{ij} \\epsilon_j)^2 \\\\\n",
    "                &= \\sum_{i=1}^n (\\sum_{j=1}^n A_{ij}^2 \\epsilon_j^2 + \\sum_{j=1}^n \\sum_{\\substack{k=1 \\\\ k \\neq j}}^n A_{ij} A_{ik} \\epsilon_j \\epsilon_k) \\\\\n",
    "\\end{align}$$\n",
    "\n",
    "D'où:\n",
    "$$\\begin{align}\n",
    "E_\\epsilon(\\frac{1}{n} ||A \\epsilon||^2) &= E_\\epsilon(\\frac{1}{n} (\\sum_{i=1}^n (\\sum_{j=1}^n A_{ij}^2 \\epsilon_j^2 + \\sum_{j=1}^n \\sum_{\\substack{k=1 \\\\ k \\neq j}}^n A_{ij} A_{ik} \\epsilon_j \\epsilon_k))) \\\\\n",
    "                                         &= \\frac{1}{n} \\sum_{i=1}^n (\\sum_{j=1}^n A_{ij}^2 E_\\epsilon(\\epsilon_j^2) + \\sum_{j=1}^n \\sum_{\\substack{k=1 \\\\ k \\neq j}}^n A_{ij} A_{ik} E_\\epsilon(\\epsilon_j \\epsilon_k) \\\\\n",
    "                                         &= \\frac{1}{n} \\sum_{i=1}^n (\\sum_{j=1}^n A_{ij}^2 E_\\epsilon(\\epsilon_j^2) + \\sum_{j=1}^n \\sum_{\\substack{k=1 \\\\ k \\neq j}}^n A_{ij} A_{ik} E_\\epsilon(\\epsilon_j) E_\\epsilon(\\epsilon_k) && \\text{car le bruit }  \\epsilon \\text{ est indépendant pour tout i}\\\\\n",
    "                                         &= \\frac{1}{n} \\sigma^2 \\sum_{i=1}^n \\sum_{j=1}^n A_{ij}^2 && \\text{car } \\forall i \\in [1,n] E(\\epsilon_i) = 0 \\text{ et } E(\\epsilon_i^2) = \\sigma^2 \\\\\n",
    "                                         &= \\frac{1}{n} \\sigma^2 tr(A^T A)\n",
    "\\end{align}$$\n",
    "\n",
    "Ainsi on a bien $E_\\epsilon[\\frac{1}{n} ||A \\epsilon||^2] = \\frac{\\sigma^2}{n} tr(A^TA)$\n"
   ]
  },
  {
   "cell_type": "markdown",
   "metadata": {},
   "source": [
    "#### Question 4 (M):\n",
    "Soit $A = I_n - X(X^T X)^{-1}X^T$. Montrons que $A^T A = A$\n",
    "\n",
    "$$\\begin{align}\n",
    "A^T A &= (I_n - X(X^T X)^{-1} X^T)^T (I_n - X(X^T X)^{-1} X^T) \\\\\n",
    "      &= (I_n - X(X^T X)^{-1^T} X^T) (I_n - X(X^T X)^{-1}X^T) \\\\\n",
    "\n",
    "et \\space(X^T X)^{-1^T} = (X^T X)^{T^{-1}} = (X^T X)^{-1} \\\\\n",
    "\n",
    "A^T A &= (I_n - X(X^T X) ^{-1}X^T)^2 \\\\\n",
    "      &= I_n - 2X(X^T X)^{-1} X^T + X(X^T X)^{-1} X^T X (X^T X)^{-1}X^T \\\\\n",
    "      &= I_n - 2X(X^T X)^{-1} X^T + X(X^T X)^{-1} X^T \\\\\n",
    "      &= I_n - X(X^T X)^{-1} X^T \\\\\n",
    "      &= A \\\\\n",
    "\\end{align}$$"
   ]
  },
  {
   "cell_type": "markdown",
   "metadata": {},
   "source": [
    "#### Question 5(M): Conclure\n",
    "\n",
    "$$\\begin{align}\n",
    "E(R_X(\\hat\\theta)) &= E(E_y(R_n(\\hat\\theta))) \\\\\n",
    "                   &= E(E_\\epsilon[\\frac{1}{n} ||(I_n - X(X^T X)^{-1} X^T)\\epsilon||^2]) \\\\\n",
    "                   &= E(\\frac{\\sigma^2}{n} tr(A^T A))  && \\text{en notant } A = I_n - X(X^T X)^{-1}X^T\\\\\n",
    "                   &= E(\\frac{\\sigma^2}{n} tr(A)) \\\\\n",
    "                   &= E(\\frac{\\sigma^2}{n} tr(I_n - X(X^T X)^{-1}X^T)) \\\\\n",
    "                   &= E(\\frac{\\sigma^2}{n} (n - tr(X(X^TX)^{-1}X^T))) \\\\\n",
    "                   &= E(\\frac{\\sigma^2}{n} (n - tr(X^TX(X^TX)^{-1}))) && \\text{car } tr(AB) = tr(BA) \\\\\n",
    "                   &= E(\\frac{\\sigma^2}{n} (n - tr(I_d))) \\\\ \n",
    "                   &= E(\\frac{\\sigma^2}{n} (n - d)) \\\\\n",
    "                   &= \\sigma^2 \\frac{n-d}{n}\n",
    "\\end{align}$$\n",
    "\n",
    "Ainsi on a bien montré que $E(R_X(\\hat\\theta)) = \\frac{n-d}{n} \\sigma^2$"
   ]
  },
  {
   "cell_type": "markdown",
   "metadata": {},
   "source": [
    "#### Question 6 (M):\n",
    "Calculons $E(\\frac{||y - X \\hat\\theta ||_2^2}{n - d})$\n",
    "\n",
    "$$ \\begin{align}\n",
    "E(\\frac{||y - X \\hat\\theta ||_2^2}{n - d}) &= \\frac{1}{n - d} E(||y - X \\hat\\theta||_2^2) \\\\\n",
    "                                           &= \\frac{n}{n - d} E(\\frac{1}{n} ||y - X \\hat\\theta ||_2^2) \\\\\n",
    "                                           &= \\frac{n}{n - d} E(R_n(\\hat\\theta)) \\\\\n",
    "                                           &= \\sigma^2\n",
    "\\end{align}$$\n",
    "\n",
    " $$ E(\\frac{||y - X \\hat\\theta ||_2^2}{n - d}) = \\sigma^2 $$"
   ]
  },
  {
   "cell_type": "markdown",
   "metadata": {},
   "source": [
    "#### Question 7 (C):"
   ]
  }
 ],
 "metadata": {
  "kernelspec": {
   "display_name": "Python 3",
   "language": "python",
   "name": "python3"
  },
  "language_info": {
   "codemirror_mode": {
    "name": "ipython",
    "version": 3
   },
   "file_extension": ".py",
   "mimetype": "text/x-python",
   "name": "python",
   "nbconvert_exporter": "python",
   "pygments_lexer": "ipython3",
   "version": "3.11.6"
  }
 },
 "nbformat": 4,
 "nbformat_minor": 2
}
