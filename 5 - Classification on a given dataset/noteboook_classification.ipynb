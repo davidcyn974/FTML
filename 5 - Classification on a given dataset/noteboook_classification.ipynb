{
 "cells": [
  {
   "cell_type": "markdown",
   "metadata": {},
   "source": [
    "# 5 - Classification on a given dataset"
   ]
  },
  {
   "cell_type": "markdown",
   "metadata": {},
   "source": [
    "# Préambule :"
   ]
  },
  {
   "cell_type": "markdown",
   "metadata": {},
   "source": [
    "Dans ce notebook, l'accent pour la recherche de la meilleure performance de classification a été mis sur la recherche d'hyperparamètres. Beaucoup de classifier ont été testés, avec différentes méthodes de recherche d'hyperparamètres."
   ]
  },
  {
   "cell_type": "markdown",
   "metadata": {},
   "source": [
    "# Importation des différents librairies et chargement des données"
   ]
  },
  {
   "cell_type": "code",
   "execution_count": 1,
   "metadata": {},
   "outputs": [],
   "source": [
    "import numpy as np\n",
    "from sklearn.preprocessing import StandardScaler, PolynomialFeatures\n",
    "from sklearn.model_selection import train_test_split, cross_val_score, StratifiedKFold, LeaveOneOut\n",
    "from sklearn.linear_model import LogisticRegression\n",
    "from sklearn.ensemble import RandomForestClassifier,  GradientBoostingClassifier,  AdaBoostClassifier\n",
    "from sklearn.neighbors import KNeighborsClassifier, RadiusNeighborsClassifier\n",
    "from sklearn.svm import SVC, NuSVC, LinearSVC, NuSVR, OneClassSVM\n",
    "\n",
    "from sklearn.tree import DecisionTreeClassifier\n",
    "from sklearn.ensemble import AdaBoostClassifier\n",
    "from sklearn.discriminant_analysis import QuadraticDiscriminantAnalysis\n",
    "\n",
    "\n",
    "from sklearn.metrics import accuracy_score\n",
    "from sklearn.model_selection import GridSearchCV, RandomizedSearchCV\n",
    "from sklearn.cluster import KMeans\n",
    "from sklearn.metrics import silhouette_score\n",
    "from sklearn.pipeline import Pipeline\n",
    "from sklearn.metrics import accuracy_score\n",
    "from sklearn.datasets import make_classification\n",
    "import optuna\n",
    "from yellowbrick.classifier import ClassificationReport, ROCAUC, ConfusionMatrix\n",
    "from sklearn.metrics import classification_report, confusion_matrix, accuracy_score, roc_auc_score, roc_curve, auc, precision_recall_curve, average_precision_score\n",
    "\n",
    "\n",
    "\n"
   ]
  },
  {
   "cell_type": "code",
   "execution_count": 2,
   "metadata": {},
   "outputs": [],
   "source": [
    "\n",
    "X_test = np.load('../data/Classification_datasets_ex5/X_test.npy')\n",
    "y_test = np.load('../data/Classification_datasets_ex5/y_test.npy')\n",
    "X_train = np.load('../data/Classification_datasets_ex5/X_train.npy')\n",
    "y_train = np.load('../data/Classification_datasets_ex5/y_train.npy')\n"
   ]
  },
  {
   "cell_type": "code",
   "execution_count": 3,
   "metadata": {},
   "outputs": [],
   "source": [
    "X_train = StandardScaler().fit_transform(X_train)\n",
    "X_test = StandardScaler().fit_transform(X_test)"
   ]
  },
  {
   "cell_type": "markdown",
   "metadata": {},
   "source": [
    "# Test de plusieurs classifiers différents"
   ]
  },
  {
   "cell_type": "markdown",
   "metadata": {},
   "source": [
    "On va utiliser optuna pour rechercher les meilleurs hyperparamètres."
   ]
  },
  {
   "cell_type": "markdown",
   "metadata": {},
   "source": [
    "## RandomForest Classifier"
   ]
  },
  {
   "cell_type": "markdown",
   "metadata": {},
   "source": [
    "L'utilisation d'optuna permet de trouver les meilleurs hyperparamètres. Dans un premier temps, après avoir regardé dans la librairie scikit-learn le classifier random forest, nous avons pu extraire des hyperparamètres importants sur lesquels jouer."
   ]
  },
  {
   "cell_type": "code",
   "execution_count": 4,
   "metadata": {},
   "outputs": [
    {
     "name": "stderr",
     "output_type": "stream",
     "text": [
      "[I 2024-06-21 09:33:40,871] A new study created in memory with name: no-name-0175b38d-cb49-42e4-9f53-feb46728ad2c\n"
     ]
    },
    {
     "data": {
      "text/html": [
       "<style>#sk-container-id-1 {color: black;background-color: white;}#sk-container-id-1 pre{padding: 0;}#sk-container-id-1 div.sk-toggleable {background-color: white;}#sk-container-id-1 label.sk-toggleable__label {cursor: pointer;display: block;width: 100%;margin-bottom: 0;padding: 0.3em;box-sizing: border-box;text-align: center;}#sk-container-id-1 label.sk-toggleable__label-arrow:before {content: \"▸\";float: left;margin-right: 0.25em;color: #696969;}#sk-container-id-1 label.sk-toggleable__label-arrow:hover:before {color: black;}#sk-container-id-1 div.sk-estimator:hover label.sk-toggleable__label-arrow:before {color: black;}#sk-container-id-1 div.sk-toggleable__content {max-height: 0;max-width: 0;overflow: hidden;text-align: left;background-color: #f0f8ff;}#sk-container-id-1 div.sk-toggleable__content pre {margin: 0.2em;color: black;border-radius: 0.25em;background-color: #f0f8ff;}#sk-container-id-1 input.sk-toggleable__control:checked~div.sk-toggleable__content {max-height: 200px;max-width: 100%;overflow: auto;}#sk-container-id-1 input.sk-toggleable__control:checked~label.sk-toggleable__label-arrow:before {content: \"▾\";}#sk-container-id-1 div.sk-estimator input.sk-toggleable__control:checked~label.sk-toggleable__label {background-color: #d4ebff;}#sk-container-id-1 div.sk-label input.sk-toggleable__control:checked~label.sk-toggleable__label {background-color: #d4ebff;}#sk-container-id-1 input.sk-hidden--visually {border: 0;clip: rect(1px 1px 1px 1px);clip: rect(1px, 1px, 1px, 1px);height: 1px;margin: -1px;overflow: hidden;padding: 0;position: absolute;width: 1px;}#sk-container-id-1 div.sk-estimator {font-family: monospace;background-color: #f0f8ff;border: 1px dotted black;border-radius: 0.25em;box-sizing: border-box;margin-bottom: 0.5em;}#sk-container-id-1 div.sk-estimator:hover {background-color: #d4ebff;}#sk-container-id-1 div.sk-parallel-item::after {content: \"\";width: 100%;border-bottom: 1px solid gray;flex-grow: 1;}#sk-container-id-1 div.sk-label:hover label.sk-toggleable__label {background-color: #d4ebff;}#sk-container-id-1 div.sk-serial::before {content: \"\";position: absolute;border-left: 1px solid gray;box-sizing: border-box;top: 0;bottom: 0;left: 50%;z-index: 0;}#sk-container-id-1 div.sk-serial {display: flex;flex-direction: column;align-items: center;background-color: white;padding-right: 0.2em;padding-left: 0.2em;position: relative;}#sk-container-id-1 div.sk-item {position: relative;z-index: 1;}#sk-container-id-1 div.sk-parallel {display: flex;align-items: stretch;justify-content: center;background-color: white;position: relative;}#sk-container-id-1 div.sk-item::before, #sk-container-id-1 div.sk-parallel-item::before {content: \"\";position: absolute;border-left: 1px solid gray;box-sizing: border-box;top: 0;bottom: 0;left: 50%;z-index: -1;}#sk-container-id-1 div.sk-parallel-item {display: flex;flex-direction: column;z-index: 1;position: relative;background-color: white;}#sk-container-id-1 div.sk-parallel-item:first-child::after {align-self: flex-end;width: 50%;}#sk-container-id-1 div.sk-parallel-item:last-child::after {align-self: flex-start;width: 50%;}#sk-container-id-1 div.sk-parallel-item:only-child::after {width: 0;}#sk-container-id-1 div.sk-dashed-wrapped {border: 1px dashed gray;margin: 0 0.4em 0.5em 0.4em;box-sizing: border-box;padding-bottom: 0.4em;background-color: white;}#sk-container-id-1 div.sk-label label {font-family: monospace;font-weight: bold;display: inline-block;line-height: 1.2em;}#sk-container-id-1 div.sk-label-container {text-align: center;}#sk-container-id-1 div.sk-container {/* jupyter's `normalize.less` sets `[hidden] { display: none; }` but bootstrap.min.css set `[hidden] { display: none !important; }` so we also need the `!important` here to be able to override the default hidden behavior on the sphinx rendered scikit-learn.org. See: https://github.com/scikit-learn/scikit-learn/issues/21755 */display: inline-block !important;position: relative;}#sk-container-id-1 div.sk-text-repr-fallback {display: none;}</style><div id=\"sk-container-id-1\" class=\"sk-top-container\"><div class=\"sk-text-repr-fallback\"><pre>RandomForestClassifier(max_depth=13, max_leaf_nodes=79, min_samples_split=8,\n",
       "                       n_estimators=187, random_state=42)</pre><b>In a Jupyter environment, please rerun this cell to show the HTML representation or trust the notebook. <br />On GitHub, the HTML representation is unable to render, please try loading this page with nbviewer.org.</b></div><div class=\"sk-container\" hidden><div class=\"sk-item\"><div class=\"sk-estimator sk-toggleable\"><input class=\"sk-toggleable__control sk-hidden--visually\" id=\"sk-estimator-id-1\" type=\"checkbox\" checked><label for=\"sk-estimator-id-1\" class=\"sk-toggleable__label sk-toggleable__label-arrow\">RandomForestClassifier</label><div class=\"sk-toggleable__content\"><pre>RandomForestClassifier(max_depth=13, max_leaf_nodes=79, min_samples_split=8,\n",
       "                       n_estimators=187, random_state=42)</pre></div></div></div></div></div>"
      ],
      "text/plain": [
       "RandomForestClassifier(max_depth=13, max_leaf_nodes=79, min_samples_split=8,\n",
       "                       n_estimators=187, random_state=42)"
      ]
     },
     "execution_count": 4,
     "metadata": {},
     "output_type": "execute_result"
    }
   ],
   "source": [
    "def rf_objective(trial):\n",
    "    # Liste d'hyperparamètres importants pour le RandomForest Classifier\n",
    "    n_estimators = trial.suggest_int('n_estimators', 50, 800)\n",
    "    max_depth = trial.suggest_int('max_depth', 10, 32)\n",
    "    min_samples_split = trial.suggest_int(\"min_samples_split\", 8, 14)\n",
    "    #criterion = trial.suggest_categorical('criterion', ['gini', 'entropy'])\n",
    "    max_leaf_nodes = trial.suggest_int('max_leaf_nodes',20, 80)\n",
    "    min_impurity_decrease = trial.suggest_float('min_impurity_decrease', 0.0, 0.5, step=0.1)\n",
    "    rf = RandomForestClassifier(n_estimators=n_estimators, \n",
    "                                max_depth=max_depth, \n",
    "                                random_state=42, \n",
    "                                min_samples_split=min_samples_split, \n",
    "                                #criterion=criterion, \n",
    "                                max_leaf_nodes=max_leaf_nodes,\n",
    "                                min_impurity_decrease=min_impurity_decrease)\n",
    "    score = cross_val_score(rf, X_train, y_train, cv=5, scoring='accuracy').mean()\n",
    "    return score\n",
    "# Optimisation des hyperparamètres de Random Forest avec Optuna\n",
    "rf_study = optuna.create_study(direction='maximize')\n",
    "optuna.logging.set_verbosity(optuna.logging.WARNING)\n",
    "rf_study.optimize(rf_objective, n_trials=150)\n",
    "best_rf_params = rf_study.best_params\n",
    "best_rf = RandomForestClassifier(**best_rf_params, random_state=42)\n",
    "best_rf.fit(X_train, y_train)"
   ]
  },
  {
   "cell_type": "markdown",
   "metadata": {},
   "source": [
    "On test la précision sur le set de test."
   ]
  },
  {
   "cell_type": "code",
   "execution_count": 5,
   "metadata": {},
   "outputs": [
    {
     "name": "stdout",
     "output_type": "stream",
     "text": [
      "Test accuracy: 0.79\n"
     ]
    }
   ],
   "source": [
    "# Test Accuracy\n",
    "test_score = best_rf.score(X_test, y_test)\n",
    "print(\"Test accuracy:\", test_score)"
   ]
  },
  {
   "cell_type": "markdown",
   "metadata": {},
   "source": [
    "0.79, c'est très loin des 0.85 demandé alors on va essayer un autre classifier, le gradient boosting."
   ]
  },
  {
   "cell_type": "markdown",
   "metadata": {},
   "source": [
    "## Gradient Boosting Classifier"
   ]
  },
  {
   "cell_type": "markdown",
   "metadata": {},
   "source": [
    "Cette fois pour permettre de meilleurs résultats, on va changer la stratégie d'hyperparameter-tuning. Une fois que les hyperparamètres auront été recherché par Optuna, on va affiner notre recherche avec un gridsearch qui a une grille qui comprends des valeurs dans un intervalle relativement petit autour des valeurs trouvées par Optuna."
   ]
  },
  {
   "cell_type": "code",
   "execution_count": 6,
   "metadata": {},
   "outputs": [
    {
     "data": {
      "application/vnd.jupyter.widget-view+json": {
       "model_id": "bc68385b816d43c0b677a073b2c68621",
       "version_major": 2,
       "version_minor": 0
      },
      "text/plain": [
       "  0%|          | 0/200 [00:00<?, ?it/s]"
      ]
     },
     "metadata": {},
     "output_type": "display_data"
    },
    {
     "name": "stdout",
     "output_type": "stream",
     "text": [
      "Test accuracy: 0.774\n"
     ]
    }
   ],
   "source": [
    "# Fonction d'objectif pour Gradient Boosting\n",
    "def gbc_objective(trial):\n",
    "    learning_rate = trial.suggest_categorical('learning_rate', [0.01,0.001,0.0001,0.1,1])\n",
    "    max_depth = trial.suggest_int('max_depth', 10, 32)\n",
    "    subsample = trial.suggest_float(\"subsample\", 0.6, 1.0, step=0.1)\n",
    "    n_ite = trial.suggest_int('n_iter_no_change', 5, 16)\n",
    "    validation_fraction = trial.suggest_float('validation_fraction', 0.1, 0.3)\n",
    "    min_samples_split = trial.suggest_int(\"min_samples_split\", 6, 13)\n",
    "    max_features = trial.suggest_categorical(\"max_features\", [\"log2\"])\n",
    "    gbc = GradientBoostingClassifier( learning_rate=learning_rate, \n",
    "                                     max_depth=max_depth, \n",
    "                                     random_state=42, \n",
    "                                     subsample= subsample,\n",
    "                                    n_iter_no_change=n_ite,\n",
    "                                    validation_fraction=validation_fraction,\n",
    "                                    min_samples_split=min_samples_split,\n",
    "                                    max_features=max_features)\n",
    "\n",
    "    score = cross_val_score(gbc, X_train, y_train, cv=5, scoring='accuracy').mean()\n",
    "    return score\n",
    "\n",
    "# Optimisation des hyperparamètres de Gradient Boosting avec Optuna\n",
    "gbc_study = optuna.create_study(direction='maximize')\n",
    "optuna.logging.set_verbosity(optuna.logging.WARNING)\n",
    "\n",
    "gbc_study.optimize(gbc_objective, n_trials=200, show_progress_bar= True)\n",
    "best_gbc_params = gbc_study.best_params\n",
    "param_grid = {\n",
    "    'learning_rate': [best_gbc_params['learning_rate']],\n",
    "    'max_depth': [best_gbc_params['max_depth'] - 2, best_gbc_params['max_depth'], best_gbc_params['max_depth'] + 2],\n",
    "    'subsample': [max(0.6, best_gbc_params['subsample'] - 0.1), best_gbc_params['subsample'], min(1.0, best_gbc_params['subsample'] + 0.1)],\n",
    "    'n_iter_no_change': [max(5, best_gbc_params['n_iter_no_change'] - 2), best_gbc_params['n_iter_no_change'], min(16, best_gbc_params['n_iter_no_change'] + 2)],\n",
    "    'validation_fraction': [max(0.1, best_gbc_params['validation_fraction'] - 0.05), best_gbc_params['validation_fraction'], min(0.3, best_gbc_params['validation_fraction'] + 0.05)],\n",
    "    'min_samples_split': [max(6, best_gbc_params['min_samples_split'] - 2), best_gbc_params['min_samples_split'], min(13, best_gbc_params['min_samples_split'] + 2)],\n",
    "    'max_features': [best_gbc_params['max_features']],\n",
    "    'n_estimators': [50, 100, 150]\n",
    "}\n",
    "# Création du modèle GradientBoostingClassifier\n",
    "gbc = GradientBoostingClassifier(random_state=42)\n",
    "\n",
    "# Utilisation de GridSearchCV pour affiner les hyperparamètres\n",
    "grid_search = GridSearchCV(gbc, param_grid, cv=5, verbose=0, scoring='accuracy')\n",
    "grid_search.fit(X_train, y_train)\n",
    "best_gbc_params_grid = grid_search.best_params_\n",
    "best_gbc = GradientBoostingClassifier(**best_gbc_params_grid, random_state=42)\n",
    "\n",
    "best_gbc.fit(X_train, y_train)\n",
    "test_score = best_gbc.score(X_test, y_test)\n",
    "print(\"Test accuracy:\", test_score)"
   ]
  },
  {
   "cell_type": "markdown",
   "metadata": {},
   "source": [
    "On obtient 0.774, on va essayer un autre classifier avec un workflow légèrement différent mais toujours suivant le principe de optuna - grid search."
   ]
  },
  {
   "cell_type": "markdown",
   "metadata": {},
   "source": [
    "## KNN Classifier"
   ]
  },
  {
   "cell_type": "markdown",
   "metadata": {},
   "source": [
    "On utilise aussi une Stratified K-Fold pour la crossvalidation afin que la proportion d'échantillons pour chaque classe est à peu près la même dans chaque \"fold\" que dans l'ensemble des données. \n",
    "On augmente aussi le nombre de trials, on peut se le permettre vu que knn Classifier est plus rapide pour l'hyperparameter tuning."
   ]
  },
  {
   "cell_type": "code",
   "execution_count": 9,
   "metadata": {},
   "outputs": [
    {
     "name": "stdout",
     "output_type": "stream",
     "text": [
      "Meilleurs paramètres Optuna : {'n_neighbors': 18, 'weights': 'distance', 'algorithm': 'kd_tree', 'leaf_size': 92, 'p': 1, 'metric': 'manhattan'}\n",
      "Meilleurs paramètres GridSearchCV : {'algorithm': 'kd_tree', 'leaf_size': 82, 'metric': 'manhattan', 'n_neighbors': 17, 'p': 1, 'weights': 'distance'}\n",
      "Précision sur l'ensemble de test : 0.8040\n",
      "\n",
      "Rapport de classification :\n",
      "              precision    recall  f1-score   support\n",
      "\n",
      "           0       0.72      0.83      0.77       201\n",
      "           1       0.87      0.79      0.83       299\n",
      "\n",
      "    accuracy                           0.80       500\n",
      "   macro avg       0.80      0.81      0.80       500\n",
      "weighted avg       0.81      0.80      0.81       500\n",
      "\n"
     ]
    }
   ],
   "source": [
    "def objective(trial):\n",
    "    params = {\n",
    "        'n_neighbors': trial.suggest_int('n_neighbors', 5, 40),\n",
    "        'weights': trial.suggest_categorical('weights', ['uniform', 'distance']),\n",
    "        'algorithm': trial.suggest_categorical('algorithm', ['auto', 'ball_tree', 'kd_tree', 'brute']),\n",
    "        'leaf_size': trial.suggest_int('leaf_size', 10, 100),\n",
    "        'p': trial.suggest_int('p', 1, 2),\n",
    "        'metric': trial.suggest_categorical('metric', ['minkowski', 'euclidean', 'manhattan']),\n",
    "    }\n",
    "    \n",
    "    knn = KNeighborsClassifier(**params)\n",
    "    return np.mean(cross_val_score(knn, X_train, y_train, cv=5, scoring='accuracy'))\n",
    "\n",
    "# Optimisation avec Optuna\n",
    "knn_study = optuna.create_study(direction='maximize')\n",
    "optuna.logging.set_verbosity(optuna.logging.WARNING)\n",
    "knn_study.optimize(objective, n_trials=3000)\n",
    "\n",
    "# Meilleurs paramètres trouvés par Optuna\n",
    "knn_best_params = knn_study.best_params\n",
    "\n",
    "# Affinage avec GridSearchCV\n",
    "param_grid = {\n",
    "    'n_neighbors': [ knn_best_params['n_neighbors'] - 1, knn_best_params['n_neighbors'], knn_best_params['n_neighbors'] + 1],\n",
    "    'weights': [knn_best_params['weights']],\n",
    "    'algorithm': [knn_best_params['algorithm']],\n",
    "    'leaf_size': [knn_best_params['leaf_size'] - 10, knn_best_params['leaf_size'], knn_best_params['leaf_size'] + 10],\n",
    "    'p': [1, 2],\n",
    "    'metric': [knn_best_params['metric']],\n",
    "}\n",
    "\n",
    "knn = KNeighborsClassifier()\n",
    "cv = StratifiedKFold(n_splits=5, shuffle=True, random_state=42)\n",
    "grid_search = GridSearchCV(knn, param_grid, cv=cv, scoring='accuracy', n_jobs=-1)\n",
    "grid_search.fit(X_train, y_train)\n",
    "\n",
    "# Meilleur modèle final\n",
    "best_model_knn = grid_search.best_estimator_\n",
    "\n",
    "# Évaluation sur l'ensemble de test\n",
    "y_pred = best_model_knn.predict(X_test)\n",
    "accuracy = accuracy_score(y_test, y_pred)\n",
    "\n",
    "print(f\"Meilleurs paramètres Optuna : {knn_best_params}\")\n",
    "print(f\"Meilleurs paramètres GridSearchCV : {grid_search.best_params_}\")\n",
    "print(f\"Précision sur l'ensemble de test : {accuracy:.4f}\")\n",
    "print(\"\\nRapport de classification :\")\n",
    "print(classification_report(y_test, y_pred))"
   ]
  },
  {
   "cell_type": "markdown",
   "metadata": {},
   "source": [
    "## SVM - SVC"
   ]
  },
  {
   "cell_type": "markdown",
   "metadata": {},
   "source": [
    "On a une meilleure précision, mais toujours très loin du 0.85. Après de nombreuses recherches supplémentaires sur les différents classifier à utiliser dans la librairie scikit-learn, avec adaboost ou encore la régression logistique simple qui ne donnaient pas de bon résultats, le SVM est celui qui parassait le plus adapté à ce problème.\n",
    "Le choix de Kernels disponible permettait d'avoir une bonne palette d'options à tester pour cette classification."
   ]
  },
  {
   "cell_type": "markdown",
   "metadata": {},
   "source": [
    "De nombreux paramètères sont disponibles pour les SVC de la librairie SVM et l'enjeu va être de tous les optimiser. \n",
    "On va donc prendre une plage de données assez grande dans un premier temps, et ensuite l'affiner dans le GridSearch.\n",
    "Le nombre de trials est important aussi pour optuna, quand on prend une grande plage de données on va avoir besoin de plus de tests pour trouver les meilleurs hyperparamètres."
   ]
  },
  {
   "cell_type": "markdown",
   "metadata": {},
   "source": [
    "D'autres SVM sont disponibles dans la librairie scikit-learn comme nuSVC, mais leurs tests n'a pas donné de résultats concluants."
   ]
  },
  {
   "cell_type": "code",
   "execution_count": 11,
   "metadata": {},
   "outputs": [],
   "source": [
    "from sklearn.preprocessing import PowerTransformer\n",
    "\n",
    "\n",
    "X_train = PowerTransformer().fit_transform(X_train)\n",
    "X_test = PowerTransformer().fit_transform(X_test)\n",
    "\n"
   ]
  },
  {
   "cell_type": "code",
   "execution_count": 13,
   "metadata": {},
   "outputs": [
    {
     "name": "stdout",
     "output_type": "stream",
     "text": [
      "Meilleurs paramètres Optuna : {'C': 729.3578984793503, 'kernel': 'poly', 'gamma': 65912.233875172, 'degree': 3, 'class_weight': None, 'shrinking': False, 'probability': True, 'tol': 0.05973088944820115, 'cache_size': 429.2745554930947, 'max_iter': 22528, 'decision_function_shape': 'ovr', 'break_ties': True, 'random_state': 38, 'coef0': 0.9886826395299089}\n",
      "Meilleurs paramètres GridSearchCV : {'C': 72.93578984793503, 'break_ties': True, 'cache_size': 429.2745554930947, 'class_weight': None, 'decision_function_shape': 'ovr', 'degree': 3, 'gamma': 6591.2233875172, 'kernel': 'poly', 'max_iter': 22528, 'probability': True, 'random_state': 38, 'shrinking': False, 'tol': 0.05973088944820115}\n",
      "Précision sur l'ensemble de test : 0.8500\n",
      "\n",
      "Rapport de classification :\n",
      "              precision    recall  f1-score   support\n",
      "\n",
      "           0       0.76      0.91      0.83       201\n",
      "           1       0.93      0.81      0.87       299\n",
      "\n",
      "    accuracy                           0.85       500\n",
      "   macro avg       0.85      0.86      0.85       500\n",
      "weighted avg       0.86      0.85      0.85       500\n",
      "\n"
     ]
    }
   ],
   "source": [
    "# Fonction d'objectif pour SVC\n",
    "def objective(trial):\n",
    "        params = {\n",
    "        'C': trial.suggest_float('C', 1e-3, 1e3),\n",
    "        'kernel': trial.suggest_categorical('kernel', [ 'poly', 'sigmoid', 'rbf']),\n",
    "        'gamma': trial.suggest_float('gamma', 1e-5, 1e5),\n",
    "        'degree': trial.suggest_int('degree', 2, 5),\n",
    "        'class_weight': trial.suggest_categorical('class_weight', [None, 'balanced']),\n",
    "        'shrinking': trial.suggest_categorical('shrinking', [True, False]),\n",
    "        'probability': trial.suggest_categorical('probability', [True, False]),\n",
    "        'tol': trial.suggest_float('tol', 1e-5, 1e-1),\n",
    "        'cache_size': trial.suggest_float('cache_size', 100, 1000),\n",
    "        'max_iter': trial.suggest_int('max_iter', 1000, 50000),\n",
    "        'decision_function_shape': trial.suggest_categorical('decision_function_shape', ['ovo', 'ovr']),\n",
    "        'break_ties': trial.suggest_categorical('break_ties', [True, False]),\n",
    "        'random_state': trial.suggest_int('random_state', 1, 1000),\n",
    "    }\n",
    "        if params['decision_function_shape'] == 'ovr':\n",
    "            params['break_ties'] = trial.suggest_categorical('break_ties', [True, False])\n",
    "        else:\n",
    "            params['break_ties'] = False\n",
    "    # Ajouter coef0 seulement pour 'poly' et 'sigmoid' kernels\n",
    "        if params['kernel'] in ['poly', 'sigmoid']:\n",
    "            params['coef0'] = trial.suggest_float('coef0', 0, 10)\n",
    "    \n",
    "        svc = SVC(**params)\n",
    "        return np.mean(cross_val_score(svc, X_train, y_train, cv=5, scoring='accuracy'))\n",
    "\n",
    "\n",
    "# Optimisation avec Optuna\n",
    "svm_study = optuna.create_study(direction='maximize')\n",
    "optuna.logging.set_verbosity(optuna.logging.WARNING)\n",
    "svm_study.optimize(objective, n_trials=3000)\n",
    "\n",
    "# Meilleurs paramètres trouvés par Optuna\n",
    "svm_best_params = svm_study.best_params\n",
    "\n",
    "# Affinage avec GridSearchCV\n",
    "param_grid = {\n",
    "    'C': [svm_best_params['C'] * 0.1, svm_best_params['C'], svm_best_params['C'] * 10],\n",
    "    'kernel': [svm_best_params['kernel']],\n",
    "    'gamma': [svm_best_params['gamma'] * 0.1, svm_best_params['gamma'], svm_best_params['gamma'] * 10],\n",
    "    'degree': [svm_best_params['degree']],\n",
    "    'class_weight': [svm_best_params['class_weight']],\n",
    "    'shrinking': [svm_best_params['shrinking']],\n",
    "    'probability': [svm_best_params['probability']],\n",
    "    'tol': [svm_best_params['tol'] * 0.1, svm_best_params['tol'], svm_best_params['tol'] * 10],\n",
    "    'cache_size': [svm_best_params['cache_size']],\n",
    "    'max_iter': [svm_best_params['max_iter']],\n",
    "    'decision_function_shape': [svm_best_params['decision_function_shape']],\n",
    "    'break_ties': [svm_best_params['break_ties']],\n",
    "    'random_state': [svm_best_params['random_state']],\n",
    "}\n",
    "\n",
    "svc = SVC(random_state=42)\n",
    "cv = StratifiedKFold(n_splits=5, shuffle=True, random_state=42)\n",
    "grid_search = GridSearchCV(svc, param_grid, cv=cv, scoring='accuracy', n_jobs=-1)\n",
    "grid_search.fit(X_train, y_train)\n",
    "\n",
    "# Meilleur modèle final\n",
    "best_model = grid_search.best_estimator_\n",
    "\n",
    "# Évaluation sur l'ensemble de test\n",
    "y_pred = best_model.predict(X_test)\n",
    "accuracy = accuracy_score(y_test, y_pred)\n",
    "\n",
    "print(f\"Meilleurs paramètres Optuna : {svm_best_params}\")\n",
    "print(f\"Meilleurs paramètres GridSearchCV : {grid_search.best_params_}\")\n",
    "print(f\"Précision sur l'ensemble de test : {accuracy:.4f}\")\n",
    "print(\"\\nRapport de classification :\")\n",
    "print(classification_report(y_test, y_pred))"
   ]
  },
  {
   "cell_type": "markdown",
   "metadata": {},
   "source": [
    "On obtient bien les 0.85 demandés, on va réexécuter le code pour voir si on peut encore obtenir une meilleure précision."
   ]
  },
  {
   "cell_type": "code",
   "execution_count": 19,
   "metadata": {},
   "outputs": [
    {
     "name": "stdout",
     "output_type": "stream",
     "text": [
      "Meilleurs paramètres Optuna : {'C': 965.7187293691553, 'kernel': 'poly', 'gamma': 77.1074854151666, 'degree': 3, 'class_weight': None, 'shrinking': True, 'probability': True, 'tol': 0.08422507408098559, 'cache_size': 799.5919297953208, 'max_iter': 45766, 'decision_function_shape': 'ovr', 'break_ties': True, 'random_state': 221, 'coef0': 0.7034405580732659}\n",
      "Meilleurs paramètres GridSearchCV : {'C': 96.57187293691554, 'cache_size': 799.5919297953208, 'class_weight': None, 'decision_function_shape': 'ovr', 'degree': 3, 'gamma': 7.71074854151666, 'kernel': 'poly', 'max_iter': 45766, 'probability': True, 'random_state': 221, 'shrinking': True, 'tol': 0.8422507408098558}\n",
      "Précision sur l'ensemble de test : 0.8580\n",
      "\n",
      "Rapport de classification :\n",
      "              precision    recall  f1-score   support\n",
      "\n",
      "           0       0.79      0.89      0.83       201\n",
      "           1       0.92      0.84      0.88       299\n",
      "\n",
      "    accuracy                           0.86       500\n",
      "   macro avg       0.85      0.86      0.86       500\n",
      "weighted avg       0.87      0.86      0.86       500\n",
      "\n"
     ]
    }
   ],
   "source": [
    "# Fonction d'objectif pour SVC\n",
    "def objective(trial):\n",
    "        params = {\n",
    "        'C': trial.suggest_float('C', 1e-3, 1e3),\n",
    "        'kernel': trial.suggest_categorical('kernel', [ 'poly', 'sigmoid', 'rbf']),\n",
    "        'gamma': trial.suggest_float('gamma', 1e-5, 1e5),\n",
    "        'degree': trial.suggest_int('degree', 2, 5),\n",
    "        'class_weight': trial.suggest_categorical('class_weight', [None, 'balanced']),\n",
    "        'shrinking': trial.suggest_categorical('shrinking', [True, False]),\n",
    "        'probability': trial.suggest_categorical('probability', [True, False]),\n",
    "        'tol': trial.suggest_float('tol', 1e-5, 1e-1),\n",
    "        'cache_size': trial.suggest_float('cache_size', 100, 1000),\n",
    "        'max_iter': trial.suggest_int('max_iter', 1000, 50000),\n",
    "        'decision_function_shape': trial.suggest_categorical('decision_function_shape', ['ovo', 'ovr']),\n",
    "        'break_ties': trial.suggest_categorical('break_ties', [True, False]),\n",
    "        'random_state': trial.suggest_int('random_state', 1, 1000),\n",
    "    }\n",
    "        if params['decision_function_shape'] == 'ovr':\n",
    "            params['break_ties'] = trial.suggest_categorical('break_ties', [True, False])\n",
    "        else:\n",
    "            params['break_ties'] = False\n",
    "    # Ajouter coef0 seulement pour 'poly' et 'sigmoid' kernels\n",
    "        if params['kernel'] in ['poly', 'sigmoid']:\n",
    "            params['coef0'] = trial.suggest_float('coef0', 0, 10)\n",
    "    \n",
    "        svc = SVC(**params)\n",
    "        return np.mean(cross_val_score(svc, X_train, y_train, cv=5, scoring='accuracy'))\n",
    "\n",
    "\n",
    "# Optimisation avec Optuna\n",
    "svm_study = optuna.create_study(direction='maximize')\n",
    "optuna.logging.set_verbosity(optuna.logging.WARNING)\n",
    "svm_study.optimize(objective, n_trials=1000)\n",
    "\n",
    "# Meilleurs paramètres trouvés par Optuna\n",
    "svm_best_params = svm_study.best_params\n",
    "\n",
    "# Affinage avec GridSearchCV\n",
    "param_grid = {\n",
    "    'C': [svm_best_params['C'] * 0.1, svm_best_params['C'], svm_best_params['C'] * 10],\n",
    "    'kernel': [svm_best_params['kernel']],\n",
    "    'gamma': [svm_best_params['gamma'] * 0.1, svm_best_params['gamma'], svm_best_params['gamma'] * 10],\n",
    "    'degree': [svm_best_params['degree']],\n",
    "    'class_weight': [svm_best_params['class_weight']],\n",
    "    'shrinking': [svm_best_params['shrinking']],\n",
    "    'probability': [svm_best_params['probability']],\n",
    "    'tol': [svm_best_params['tol'] * 0.1, svm_best_params['tol'], svm_best_params['tol'] * 10],\n",
    "    'cache_size': [svm_best_params['cache_size']],\n",
    "    'max_iter': [svm_best_params['max_iter']],\n",
    "    'decision_function_shape': [svm_best_params['decision_function_shape']],\n",
    "    'random_state': [svm_best_params['random_state']],\n",
    "}\n",
    "\n",
    "svc = SVC(random_state=42)\n",
    "cv = StratifiedKFold(n_splits=5, shuffle=True, random_state=42)\n",
    "grid_search = GridSearchCV(svc, param_grid, cv=cv, scoring='accuracy', n_jobs=-1)\n",
    "grid_search.fit(X_train, y_train)\n",
    "\n",
    "# Meilleur modèle final\n",
    "best_model = grid_search.best_estimator_\n",
    "\n",
    "# Évaluation sur l'ensemble de test\n",
    "y_pred = best_model.predict(X_test)\n",
    "accuracy = accuracy_score(y_test, y_pred)\n",
    "\n",
    "print(f\"Meilleurs paramètres Optuna : {svm_best_params}\")\n",
    "print(f\"Meilleurs paramètres GridSearchCV : {grid_search.best_params_}\")\n",
    "print(f\"Précision sur l'ensemble de test : {accuracy:.4f}\")\n",
    "print(\"\\nRapport de classification :\")\n",
    "print(classification_report(y_test, y_pred))"
   ]
  },
  {
   "cell_type": "markdown",
   "metadata": {},
   "source": [
    "On obtient 0.8580, en réessayant plusieurs fois avec peut-être ntrials encore plus grand on peut avoir enore une meilleur précision, en affinant les paramètres d'optuna aussi, mais le résultat est là avec une précision qui dépasse celle demandée dans la consigne."
   ]
  },
  {
   "cell_type": "markdown",
   "metadata": {},
   "source": [
    "Pour finir, on peut visualiser avec yellowbrick les performances du modèle."
   ]
  },
  {
   "cell_type": "code",
   "execution_count": 20,
   "metadata": {},
   "outputs": [
    {
     "data": {
      "image/png": "[encoded data removed]",
      "text/plain": [
       "<Figure size 800x550 with 2 Axes>"
      ]
     },
     "metadata": {},
     "output_type": "display_data"
    },
    {
     "data": {
      "image/png": "[encoded data removed]",
      "text/plain": [
       "<Figure size 800x550 with 1 Axes>"
      ]
     },
     "metadata": {},
     "output_type": "display_data"
    },
    {
     "data": {
      "image/png": "[encoded data removed]",
      "text/plain": [
       "<Figure size 800x550 with 1 Axes>"
      ]
     },
     "metadata": {},
     "output_type": "display_data"
    },
    {
     "data": {
      "text/plain": [
       "<Axes: title={'center': 'SVC Confusion Matrix'}, xlabel='Predicted Class', ylabel='True Class'>"
      ]
     },
     "execution_count": 20,
     "metadata": {},
     "output_type": "execute_result"
    }
   ],
   "source": [
    "# Visualisation avec Yellowbrick\n",
    "visualizer = ClassificationReport(best_model, support=True)\n",
    "visualizer.fit(X_train, y_train)  # Fit the training data to the visualizer\n",
    "visualizer.score(X_test, y_test)  # Evaluate the model on the test data\n",
    "visualizer.show()\n",
    "\n",
    "# Visualisation de la courbe ROC\n",
    "roc_auc = ROCAUC(best_model, binary=True)\n",
    "roc_auc.fit(X_train, y_train)\n",
    "roc_auc.score(X_test, y_test)\n",
    "roc_auc.show()\n",
    "\n",
    "# Visualisation de la matrice de confusion\n",
    "cm = ConfusionMatrix(best_model)\n",
    "cm.fit(X_train, y_train)\n",
    "cm.score(X_test, y_test)\n",
    "cm.show()"
   ]
  },
  {
   "cell_type": "markdown",
   "metadata": {},
   "source": [
    "# Conclusion"
   ]
  },
  {
   "cell_type": "markdown",
   "metadata": {},
   "source": [
    "En conclusion, nous avons testé plusieurs types de solver pour cet exercice, et il est apparu que le classifier SVM répondait le mieux au problème. On peut se demander pourquoi, voici plusieurs raisons possibles :"
   ]
  },
  {
   "cell_type": "markdown",
   "metadata": {},
   "source": [
    "1. Efficacité dans les espaces à haute dimension : SVC est particulièrement efficace pour les données où le nombre de dimensions est plus grand que le nombre d'échantillons. \n",
    "2. Flexibilité grâce aux kernels : La possibilité d'utiliser différentes fonctions de noyau permet à SVC de s'adapter à divers types de problèmes en transformant les données d'une manière qui facilite la séparation des classes. Dans notre cas, le kernel poly semble être celui qui donne les meilleurs résultats.\n",
    "3. Performance robuste : SVC offre de bonnes performances dans les cas où les classes sont bien séparées. Ce qui semble être le cas dans nos données, on peut le voir avec la matrice de confusion.\n",
    "4. Contrôle du sur-apprentissage : Grâce au paramètre de régularisation C, le SVC peut éviter le sur-apprentissage en ajustant la pénalité pour les erreurs de classification. Cela peut-être toujours utile"
   ]
  }
 ],
 "metadata": {
  "kernelspec": {
   "display_name": "ox",
   "language": "python",
   "name": "python3"
  },
  "language_info": {
   "codemirror_mode": {
    "name": "ipython",
    "version": 3
   },
   "file_extension": ".py",
   "mimetype": "text/x-python",
   "name": "python",
   "nbconvert_exporter": "python",
   "pygments_lexer": "ipython3",
   "version": "3.11.3"
  }
 },
 "nbformat": 4,
 "nbformat_minor": 2
}
